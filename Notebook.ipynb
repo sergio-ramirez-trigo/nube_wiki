{
 "cells": [
  {
   "cell_type": "code",
   "execution_count": null,
   "id": "5482e26e-b5e0-416e-8adf-b6f46aca2342",
   "metadata": {},
   "outputs": [],
   "source": [
    "import wikipedia\n",
    "import re\n",
    "from stop_words import get_stop_words"
   ]
  },
  {
   "cell_type": "code",
   "execution_count": null,
   "id": "3ee73f4c-fd5a-4229-85b4-336c2842f4d2",
   "metadata": {},
   "outputs": [],
   "source": [
    "stop_words= get_stop_words('es')\n",
    "len(stop_words)\n",
    "print(wikipedia.languages())\n",
    "                           \n",
    "#fijamos el idioma a español\n",
    "wikipedia.set_lang(\"es\")\n",
    "print(wikipedia.search(\"Python\"))\n",
    "print(wikipedia.search(\"Python\", results = 3))\n",
    "print(wikipedia.suggest(\"Madriz\"))"
   ]
  },
  {
   "cell_type": "code",
   "execution_count": null,
   "id": "b2387bf8-8f06-428c-9df5-d4af0396d872",
   "metadata": {},
   "outputs": [],
   "source": [
    "# Que página queremos descargar\n",
    "wiki = wikipedia.page('Python')\n",
    "\n",
    "# Sacamos el texto de la página\n",
    "text= wiki.content\n",
    "\n",
    "# Sacamos el texto de la página\n",
    "text= wiki.content\n",
    "\n",
    "# Cleantext\n",
    "text= re.sub(r'==.*?==+', '', text) # eliminamos los headers\n",
    "text= text.replace('\\n', '') # eliminamos los saltos de línea"
   ]
  },
  {
   "cell_type": "code",
   "execution_count": null,
   "id": "2b47641b-67fb-4830-a23a-64d1a8d8eba8",
   "metadata": {},
   "outputs": [],
   "source": [
    "import matplotlib.pyplot as plt\n",
    "%matplotlib inline\n",
    "\n",
    "# Creamos una función para generar el gráfico\n",
    "def plot_cloud(wordcloud):\n",
    "    # fijamos el tamaño\n",
    "    plt.figure(figsize=(40, 30))\n",
    "    # plotde la imagen\n",
    "    plt.imshow(wordcloud)\n",
    "    # sin ejes\n",
    "    plt.axis(\"off\")"
   ]
  },
  {
   "cell_type": "code",
   "execution_count": null,
   "id": "86a0e0ca-86df-4d55-8c48-c00de0dff604",
   "metadata": {},
   "outputs": [],
   "source": [
    "# Importamos el paquete para hacer la nube de palabras\n",
    "from wordcloud import WordCloud\n",
    "\n",
    "# Genaramosla nube\n",
    "wordcloud= WordCloud(width= 3000, height= 2000, random_state=1,\n",
    "                     background_color='white',colormap='viridis',\n",
    "                     collocations=False, stopwords= stop_words + [\"Python\", \"puede\", \"pueden\"]).generate(text)\n",
    "plot_cloud(wordcloud)"
   ]
  },
  {
   "cell_type": "code",
   "execution_count": null,
   "id": "7b91ee6b-6aa7-4637-b551-f81a17f32b94",
   "metadata": {},
   "outputs": [],
   "source": [
    "def crear_nube(x) :\n",
    "    wikipedia.set_lang(\"es\")\n",
    "    wiki = wikipedia.page(x)\n",
    "\n",
    "    text= wiki.content\n",
    "    text= re.sub(r'==.*?==+', '', text) # eliminamos los headers\n",
    "    text= text.replace('\\n', '') # eliminamos los saltos de línea\n",
    "    \n",
    "    wordcloud= WordCloud(width= 3000, height= 2000, random_state=1,\n",
    "                         background_color='white',colormap='viridis',\n",
    "                         collocations=False, stopwords= stop_words+ [x]).generate(text)\n",
    "    nube = plot_cloud(wordcloud)\n",
    "    \n",
    "    return(nube)"
   ]
  },
  {
   "cell_type": "code",
   "execution_count": null,
   "id": "3420fb5c-23c1-4a62-9f2f-d44d1b2100ee",
   "metadata": {},
   "outputs": [],
   "source": [
    "crear_nube(\"Madrid\")"
   ]
  },
  {
   "cell_type": "code",
   "execution_count": null,
   "id": "06ea960b-3f84-4987-9f9c-b1df0786dd61",
   "metadata": {},
   "outputs": [],
   "source": [
    "crear_nube(\"Toledo\")"
   ]
  }
 ],
 "metadata": {
  "kernelspec": {
   "display_name": "Python 3 (ipykernel)",
   "language": "python",
   "name": "python3"
  },
  "language_info": {
   "codemirror_mode": {
    "name": "ipython",
    "version": 3
   },
   "file_extension": ".py",
   "mimetype": "text/x-python",
   "name": "python",
   "nbconvert_exporter": "python",
   "pygments_lexer": "ipython3",
   "version": "3.12.2"
  }
 },
 "nbformat": 4,
 "nbformat_minor": 5
}
