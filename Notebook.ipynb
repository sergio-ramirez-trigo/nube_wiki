{
 "cells": [
  {
   "cell_type": "code",
   "execution_count": 6,
   "id": "5482e26e-b5e0-416e-8adf-b6f46aca2342",
   "metadata": {},
   "outputs": [],
   "source": [
    "import wikipedia\n",
    "import re\n",
    "from stop_words import get_stop_words"
   ]
  },
  {
   "cell_type": "code",
   "execution_count": null,
   "id": "3ee73f4c-fd5a-4229-85b4-336c2842f4d2",
   "metadata": {},
   "outputs": [],
   "source": [
    "stop_words= get_stop_words('es')\n",
    "len(stop_words)\n",
    "print(wikipedia.languages())\n",
    "                           \n",
    "#fijamos el idioma a español\n",
    "wikipedia.set_lang(\"es\")\n",
    "print(wikipedia.search(\"Python\"))\n",
    "print(wikipedia.search(\"Python\", results = 3))\n",
    "print(wikipedia.suggest(\"Madriz\"))"
   ]
  },
  {
   "cell_type": "code",
   "execution_count": 8,
   "id": "b2387bf8-8f06-428c-9df5-d4af0396d872",
   "metadata": {},
   "outputs": [],
   "source": [
    "# Que página queremos descargar\n",
    "wiki = wikipedia.page('Python')\n",
    "\n",
    "# Sacamos el texto de la página\n",
    "text= wiki.content\n",
    "\n",
    "# Sacamos el texto de la página\n",
    "text= wiki.content\n",
    "\n",
    "# Cleantext\n",
    "text= re.sub(r'==.*?==+', '', text) # eliminamos los headers\n",
    "text= text.replace('\\n', '') # eliminamos los saltos de línea"
   ]
  },
  {
   "cell_type": "code",
   "execution_count": 12,
   "id": "2b47641b-67fb-4830-a23a-64d1a8d8eba8",
   "metadata": {},
   "outputs": [],
   "source": [
    "import matplotlib.pyplot as plt\n",
    "%matplotlib inline\n",
    "\n",
    "# Creamos una función para generar el gráfico\n",
    "def plot_cloud(wordcloud):\n",
    "    # fijamos el tamaño\n",
    "    plt.figure(figsize=(40, 30))\n",
    "    # plotde la imagen\n",
    "    plt.imshow(wordcloud)\n",
    "    # sin ejes\n",
    "    plt.axis(\"off\")"
   ]
  },
  {
   "cell_type": "code",
   "execution_count": null,
   "id": "86a0e0ca-86df-4d55-8c48-c00de0dff604",
   "metadata": {},
   "outputs": [],
   "source": []
  }
 ],
 "metadata": {
  "kernelspec": {
   "display_name": "Python 3 (ipykernel)",
   "language": "python",
   "name": "python3"
  },
  "language_info": {
   "codemirror_mode": {
    "name": "ipython",
    "version": 3
   },
   "file_extension": ".py",
   "mimetype": "text/x-python",
   "name": "python",
   "nbconvert_exporter": "python",
   "pygments_lexer": "ipython3",
   "version": "3.12.2"
  }
 },
 "nbformat": 4,
 "nbformat_minor": 5
}
